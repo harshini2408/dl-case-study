{
 "cells": [
  {
   "cell_type": "code",
   "execution_count": 1,
   "id": "ca692a7f",
   "metadata": {},
   "outputs": [
    {
     "name": "stderr",
     "output_type": "stream",
     "text": [
      "C:\\Users\\Harshi\\anaconda3\\Lib\\site-packages\\sklearn\\datasets\\_openml.py:1002: FutureWarning: The default value of `parser` will change from `'liac-arff'` to `'auto'` in 1.4. You can set `parser='auto'` to silence this warning. Therefore, an `ImportError` will be raised from 1.4 if the dataset is dense and pandas is not installed. Note that the pandas parser may return different data types. See the Notes Section in fetch_openml's API doc for details.\n",
      "  warn(\n"
     ]
    },
    {
     "name": "stdout",
     "output_type": "stream",
     "text": [
      "Epoch 1/5\n",
      "700/700 [==============================] - 18s 24ms/step - loss: 0.2210 - accuracy: 0.9329 - val_loss: 0.0950 - val_accuracy: 0.9691\n",
      "Epoch 2/5\n",
      "700/700 [==============================] - 17s 25ms/step - loss: 0.0578 - accuracy: 0.9824 - val_loss: 0.0555 - val_accuracy: 0.9842\n",
      "Epoch 3/5\n",
      "700/700 [==============================] - 23s 33ms/step - loss: 0.0414 - accuracy: 0.9877 - val_loss: 0.0452 - val_accuracy: 0.9852\n",
      "Epoch 4/5\n",
      "700/700 [==============================] - 25s 35ms/step - loss: 0.0315 - accuracy: 0.9903 - val_loss: 0.0478 - val_accuracy: 0.9843\n",
      "Epoch 5/5\n",
      "700/700 [==============================] - 25s 36ms/step - loss: 0.0259 - accuracy: 0.9922 - val_loss: 0.0352 - val_accuracy: 0.9890\n",
      "438/438 [==============================] - 2s 5ms/step - loss: 0.0328 - accuracy: 0.9890\n",
      "Test Accuracy (TensorFlow): 0.9890000224113464\n"
     ]
    }
   ],
   "source": [
    "from sklearn.datasets import fetch_openml\n",
    "from sklearn.model_selection import train_test_split\n",
    "from tensorflow.keras import layers, models\n",
    "from tensorflow.keras.utils import to_categorical\n",
    "\n",
    "mnist = fetch_openml('mnist_784')\n",
    "x, y = mnist['data'], mnist['target']\n",
    "\n",
    "y = y.astype(int)\n",
    "\n",
    "x = x / 255.0\n",
    "\n",
    "x = x.values.reshape((-1, 28, 28, 1))\n",
    "x_train, x_test, y_train, y_test = train_test_split(x, y, test_size=0.2, random_state=42)\n",
    "\n",
    "y_train = to_categorical(y_train)\n",
    "y_test = to_categorical(y_test)\n",
    "\n",
    "\n",
    "model = models.Sequential()\n",
    "model.add(layers.Conv2D(32, (3, 3), activation='relu', input_shape=(28, 28, 1)))\n",
    "model.add(layers.MaxPooling2D((2, 2)))\n",
    "model.add(layers.Conv2D(64, (3, 3), activation='relu'))\n",
    "model.add(layers.MaxPooling2D((2, 2)))\n",
    "model.add(layers.Conv2D(64, (3, 3), activation='relu'))\n",
    "model.add(layers.Flatten())\n",
    "model.add(layers.Dense(64, activation='relu'))\n",
    "model.add(layers.Dense(10, activation='softmax'))\n",
    "\n",
    "model.compile(optimizer='adam',\n",
    "              loss='categorical_crossentropy',\n",
    "              metrics=['accuracy'])\n",
    "\n",
    "model.fit(x_train, y_train, epochs=5, batch_size=64, validation_split=0.2)\n",
    "\n",
    "test_loss, test_accuracy = model.evaluate(x_test, y_test)\n",
    "print(f'Test Accuracy (TensorFlow): {test_accuracy}')\n"
   ]
  },
  {
   "cell_type": "code",
   "execution_count": null,
   "id": "380ef59d",
   "metadata": {},
   "outputs": [],
   "source": []
  }
 ],
 "metadata": {
  "kernelspec": {
   "display_name": "Python 3 (ipykernel)",
   "language": "python",
   "name": "python3"
  },
  "language_info": {
   "codemirror_mode": {
    "name": "ipython",
    "version": 3
   },
   "file_extension": ".py",
   "mimetype": "text/x-python",
   "name": "python",
   "nbconvert_exporter": "python",
   "pygments_lexer": "ipython3",
   "version": "3.11.5"
  }
 },
 "nbformat": 4,
 "nbformat_minor": 5
}
